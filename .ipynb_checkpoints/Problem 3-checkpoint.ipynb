{
 "metadata": {
  "name": "",
  "signature": "sha256:4d14c05e219c3bf7695602a38a58703d3297d9815b0270263317b3752343f2dc"
 },
 "nbformat": 3,
 "nbformat_minor": 0,
 "worksheets": [
  {
   "cells": [
    {
     "cell_type": "markdown",
     "metadata": {},
     "source": [
      "#Problem 3\n",
      "\n",
      "###a.\n",
      "Note that the K values I use may differ slightly from those in your book\n",
      "\n",
      "Dissolution of the sparingly soluble salt:\n",
      "$$Ag_3PO_{4(s)} \\rightleftharpoons 3 Ag_{(aq)}^+ + PO^{3-}_{4(aq)}$$\n",
      "$$K_{sp} = \\left[Ag^+\\right]^3\\left[PO_4^{3-}\\right] = 8.89 \\times 10^{-17}$$\n",
      "\n",
      "Autoprotolysis of water:\n",
      "$$2H_2O_{(l)} \\rightleftharpoons H_3O_{(aq)}^+ + OH_{(aq)}^-$$\n",
      "$$K_w = [OH^-][H_3O^+] = 10^{-14}$$\n",
      "\n",
      "First basic reaction:\n",
      "$$PO^{3-}_{4(aq)} + H_2O_{(l)} \\rightleftharpoons HPO^{2-}_{4(aq)} + OH_{(aq)}^-$$\n",
      "$$K_{b1} = \\frac{[OH^-][HPO_4^{2-}]}{[PO_4^{3-}]}=0.0467$$\n",
      "\n",
      "Second basic reaction:\n",
      "$$HPO^{2-}_{4(aq)} + H_2O_{(l)} \\rightleftharpoons H_2PO^{-}_{4(aq)} + OH_{(aq)}^-$$\n",
      "$$K_{b2} = \\frac{[OH^-][H_2PO_4^{-}]}{[HPO_4^{2-}]}=1.61\\times 10^{-7}$$\n",
      "\n",
      "Third basic reaction:\n",
      "$$H_2PO^{-}_{4(aq)} + H_2O_{(l)} \\rightleftharpoons H_3PO_{4(aq)} + OH_{(aq)}^-$$\n",
      "$$K_{b3} = \\frac{[OH^-][H_3PO_4]}{[H_2PO_4^{-}]}=1.33\\times 10^{-3}$$"
     ]
    },
    {
     "cell_type": "markdown",
     "metadata": {},
     "source": [
      "###b.\n",
      "$$[Ag^+]+[H_3O^+] = [OH^-]+3[PO_4^{3-}] + 2[HPO_4^{2-}] + [H_2PO_4^-]$$"
     ]
    },
    {
     "cell_type": "markdown",
     "metadata": {},
     "source": [
      "###c.\n",
      "Every 3 $Ag^+$ ions come with a $PO_4^{3-}$ ion, which then partitions into four forms:\n",
      "$$\\frac{1}{3}[Ag^+] = [PO_4^{3-}] + [HPO_4^{2-}] + [H_2PO_4^-] + [H_3PO_4]$$"
     ]
    },
    {
     "cell_type": "markdown",
     "metadata": {},
     "source": [
      "###d.\n",
      "$$\\alpha_{PO_4^{3-}} = \\frac{K_{a1}K_{a2}K_{a3}}{[H_3O^+]^3 + [H_3O^+]^2K_{a1} + [H_3O^+]K_{a1}K_{a2}+K_{a1}K_{a2}K_{a3}}$$\n",
      "$$~$$ $$~$$\n",
      "$$K_{sp} = \\left[Ag^+\\right]^3\\left[PO_4^{3-}\\right]$$\n",
      "$$~$$ $$~$$\n",
      "$$K_{sp} = \\left[Ag^+\\right]^3\\frac{K_{a1}K_{a2}K_{a3}}{[H_3O^+]^3 + [H_3O^+]^2K_{a1} + [H_3O^+]K_{a1}K_{a2}+K_{a1}K_{a2}K_{a3}}$$\n",
      "$$~$$ $$~$$\n",
      "$$\\left[Ag^+\\right]^3 = \\frac{1}{K_{sp}}\\frac{K_{a1}K_{a2}K_{a3}}{[H_3O^+]^3 + [H_3O^+]^2K_{a1} + [H_3O^+]K_{a1}K_{a2}+K_{a1}K_{a2}K_{a3}}$$\n",
      "$$~$$ $$~$$\n",
      "$$\\left[Ag^+\\right] = \\left[\\frac{1}{K_{sp}}\\frac{K_{a1}K_{a2}K_{a3}}{[H_3O^+]^3 + [H_3O^+]^2K_{a1} + [H_3O^+]K_{a1}K_{a2}+K_{a1}K_{a2}K_{a3}}\\right]^{\\frac{1}{3}}$$\n",
      "$$~$$ $$~$$\n",
      "$$\\left[Ag^+\\right] = \\left[\\frac{1}{8.89 \\times 10^{-17}}\\frac{K_{a1}K_{a2}K_{a3}}{[H^+]^3 + [H^+]^2K_{a1} + [H^+]K_{a1}K_{a2}+K_{a1}K_{a2}K_{a3}}\\right]^{\\frac{1}{3}}$$\n",
      "$$~$$ $$~$$\n",
      "$$\\left[Ag^+\\right] = \\left[1.125\\times 10^{16}\\frac{K_{a1}K_{a2}K_{a3}}{[H^+]^3 + [H^+]^2K_{a1} + [H^+]K_{a1}K_{a2}+K_{a1}K_{a2}K_{a3}}\\right]^{\\frac{1}{3}}$$\n",
      "\n",
      "This equation is relatively simple! That is why adding a buffer actually makes this problem simpler"
     ]
    },
    {
     "cell_type": "markdown",
     "metadata": {},
     "source": [
      "###e.\n",
      "First, although we used $K_b$ values in part a., we really need the $K_a$ values here.\n",
      "$$K_{a1} = 7.5 \\times 10^{-3}$$\n",
      "$$K_{a2} = 6.2 \\times 10^{-8}$$\n",
      "$$K_{a3} = 2.14 \\times 10^{-13}$$\n",
      "\n",
      "At $pH = 5.00$, $[H_3O^+] = 10^{-5}$ and at $pH = 9.00$, $[H_3O^+] = 10^{-9}$\n",
      "\n",
      "It will require some care, but just plug in the numbers and go."
     ]
    },
    {
     "cell_type": "code",
     "collapsed": false,
     "input": [],
     "language": "python",
     "metadata": {},
     "outputs": [],
     "prompt_number": 3
    },
    {
     "cell_type": "code",
     "collapsed": false,
     "input": [],
     "language": "python",
     "metadata": {},
     "outputs": []
    }
   ],
   "metadata": {}
  }
 ]
}